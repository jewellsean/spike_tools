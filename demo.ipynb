{
 "cells": [
  {
   "cell_type": "code",
   "execution_count": 1,
   "metadata": {},
   "outputs": [
    {
     "ename": "ModuleNotFoundError",
     "evalue": "No module named 'spike_tools'",
     "output_type": "error",
     "traceback": [
      "\u001b[0;31m---------------------------------------------------------------------------\u001b[0m",
      "\u001b[0;31mModuleNotFoundError\u001b[0m                       Traceback (most recent call last)",
      "\u001b[0;32m<ipython-input-1-ffd33d58727c>\u001b[0m in \u001b[0;36m<module>\u001b[0;34m\u001b[0m\n\u001b[1;32m      1\u001b[0m \u001b[0;32mimport\u001b[0m \u001b[0mnumpy\u001b[0m \u001b[0;32mas\u001b[0m \u001b[0mnp\u001b[0m\u001b[0;34m\u001b[0m\u001b[0;34m\u001b[0m\u001b[0m\n\u001b[0;32m----> 2\u001b[0;31m \u001b[0;32mfrom\u001b[0m \u001b[0mspike_tools\u001b[0m \u001b[0;32mimport\u001b[0m \u001b[0mdata_preprocessing\u001b[0m\u001b[0;34m,\u001b[0m \u001b[0mestimate_decay_rates\u001b[0m\u001b[0;34m,\u001b[0m \u001b[0mestimate_spikes\u001b[0m\u001b[0;34m\u001b[0m\u001b[0;34m\u001b[0m\u001b[0m\n\u001b[0m\u001b[1;32m      3\u001b[0m \u001b[0;32mfrom\u001b[0m \u001b[0mmatplotlib\u001b[0m \u001b[0;32mimport\u001b[0m \u001b[0mpyplot\u001b[0m \u001b[0;32mas\u001b[0m \u001b[0mplt\u001b[0m\u001b[0;34m\u001b[0m\u001b[0;34m\u001b[0m\u001b[0m\n\u001b[1;32m      4\u001b[0m \u001b[0mget_ipython\u001b[0m\u001b[0;34m(\u001b[0m\u001b[0;34m)\u001b[0m\u001b[0;34m.\u001b[0m\u001b[0mrun_line_magic\u001b[0m\u001b[0;34m(\u001b[0m\u001b[0;34m'matplotlib'\u001b[0m\u001b[0;34m,\u001b[0m \u001b[0;34m'notebook'\u001b[0m\u001b[0;34m)\u001b[0m\u001b[0;34m\u001b[0m\u001b[0;34m\u001b[0m\u001b[0m\n",
      "\u001b[0;31mModuleNotFoundError\u001b[0m: No module named 'spike_tools'"
     ]
    }
   ],
   "source": [
    "import numpy as np\n",
    "from spike_tools import data_preprocessing, estimate_decay_rates, estimate_spikes\n",
    "from matplotlib import pyplot as plt\n",
    "%matplotlib notebook"
   ]
  },
  {
   "cell_type": "markdown",
   "metadata": {},
   "source": [
    "## Example 1: An in-vitro data setting\n",
    "\n",
    "This example illustrates the full pipeline: \n",
    "- Load data and preprocess\n",
    "- Estimate decay rate based on ephys\n",
    "- Estimate spikes based on estimated decay rate and a target average firing rate"
   ]
  },
  {
   "cell_type": "code",
   "execution_count": null,
   "metadata": {},
   "outputs": [],
   "source": [
    "# Data setup\n",
    "base_dir = 'data/'\n",
    "fps_in = 33.33\n",
    "exp = 4\n",
    "\n",
    "# Resampling factor\n",
    "upsample_factor = 2\n",
    "\n",
    "# Read in data\n",
    "subset = 1000\n",
    "gcamp = np.genfromtxt(base_dir + str(exp) + '/gcamp_dff.csv', delimiter=',')\n",
    "gcamp = gcamp[0:subset] # just look at subset of data for this example\n",
    "cam_times = np.genfromtxt(base_dir + str(exp) + '/cam_times.csv', delimiter=',')\n",
    "cam_times = cam_times[0:subset]\n",
    "spike_times = np.genfromtxt(base_dir + str(exp) + '/spiketimes.csv', delimiter=',')\n",
    "\n",
    "# Setup data dict for original data\n",
    "data = {'calcium': gcamp,'fps': fps_in, 'cam_times': cam_times, 'spike_times': spike_times}\n",
    "\n",
    "# Preprocess data: remove trends, upsample by upsample_factor, and normalize \n",
    "data = data_preprocessing.preprocess(data, factor = upsample_factor, low_perc = 1, up_perc = 80)\n",
    "\n",
    "# Estimate decay rate based on known spike times \n",
    "decay_rate_estimates = estimate_decay_rates.estimate_gam(data)\n",
    "\n",
    "print('Estimated AR1 decay rate \\t ' + str(decay_rate_estimates['gam_hat']))"
   ]
  },
  {
   "cell_type": "markdown",
   "metadata": {},
   "source": [
    "### Estimating spikes\n",
    "\n",
    "Spikes are estimated via L0 penalization with the [FastLZeroSpikeInference](https://jewellsean.github.io/fast-spike-deconvolution/index.html) package. To estimate spikes we must provide the gcamp trace, decay rate, and a tuning parameter. Instead of specifying this parameter directly we provide a target average estimated firing rate. "
   ]
  },
  {
   "cell_type": "code",
   "execution_count": null,
   "metadata": {},
   "outputs": [],
   "source": [
    "# Estimate spikes based on estimated decay rate and a target average firing rate \n",
    "target_firing_rate = 5.0\n",
    "out = estimate_spikes.estimate_spikes_by_firing_rate(data, decay_rate_estimates['gam_hat'], target_firing_rate)\n",
    "# See out['fit'] for estimated quantities.  \n",
    "\n",
    "print('------ Spike estimation complete -----')\n",
    "print('Target firing rate \\t' + str(target_firing_rate))\n",
    "print('Estimated firing rate \\t' + str(out['fit']['spikes'].shape[0] / (data['calcium'].shape[0] / data['fps'])))"
   ]
  },
  {
   "cell_type": "markdown",
   "metadata": {},
   "source": [
    "### Visualize fit"
   ]
  },
  {
   "cell_type": "code",
   "execution_count": null,
   "metadata": {},
   "outputs": [],
   "source": [
    "plt.figure()\n",
    "plt.plot(data['cam_times'], data['calcium'],color='k', linestyle='--')\n",
    "plt.plot(data['cam_times'], out['fit']['estimated_calcium'],color='#fdae61', lw = 0.8)\n",
    "for st in out['fit']['spikes']:\n",
    "    spike_time = data['cam_times'][st]\n",
    "    plt.plot([spike_time, spike_time], [-.5, -.2], '#2b83ba', lw = 0.5)\n",
    "    plt.ylim([-.8, 2.])\n",
    "\n",
    "\n",
    "plt.xlabel('Time (s)')\n",
    "plt.tight_layout()\n",
    "plt.show()"
   ]
  },
  {
   "cell_type": "markdown",
   "metadata": {},
   "source": [
    "## Example 2: An in-vivo data setting\n",
    "\n",
    "Without ephys data, we do not estimate the decay rate. We just\n",
    "- Load data and preprocess\n",
    "- Estimate spikes based on (input) decay rate and target average firing rate"
   ]
  },
  {
   "cell_type": "code",
   "execution_count": null,
   "metadata": {},
   "outputs": [],
   "source": [
    "fps_in = 30.0\n",
    "decay_rate = 0.985207421875\n",
    "target_firing_rate = 7\n",
    "\n",
    "data = {'calcium': gcamp,'fps': fps_in}\n",
    "data = data_preprocessing.preprocess(data, factor = 2, low_perc = 1, up_perc = 80)\n",
    "out = estimate_spikes.estimate_spikes_by_firing_rate(data, decay_rate, target_firing_rate)\n",
    "\n",
    "\n",
    "print('------ Spike estimation complete -----')\n",
    "print('Target firing rate \\t' + str(target_firing_rate))\n",
    "print('Estimated firing rate \\t' + str(out['fit']['spikes'].shape[0] / (data['calcium'].shape[0] / data['fps'])))"
   ]
  },
  {
   "cell_type": "markdown",
   "metadata": {},
   "source": [
    "### Visualize results\n",
    "\n",
    "Plot processed gcamp (black), estimated calcium (orange), and estimated spikes (blue lines)"
   ]
  },
  {
   "cell_type": "code",
   "execution_count": null,
   "metadata": {},
   "outputs": [],
   "source": [
    "plt.figure()\n",
    "plt.plot(data['cam_times'], data['calcium'],color='k', linestyle='--')\n",
    "plt.plot(data['cam_times'], out['fit']['estimated_calcium'],color='#fdae61', lw = 0.8)\n",
    "for st in out['fit']['spikes']:\n",
    "    spike_time = data['cam_times'][st]\n",
    "    plt.plot([spike_time, spike_time], [-.5, -.2], '#2b83ba', lw = 0.5)\n",
    "    plt.ylim([-.8, 2.])\n",
    "\n",
    "\n",
    "plt.xlabel('Time (s)')\n",
    "plt.tight_layout()\n",
    "plt.show()"
   ]
  },
  {
   "cell_type": "markdown",
   "metadata": {},
   "source": [
    "## More information about the L0 problem\n",
    "More information about the L0 penalized optimization is available via help and the package [webpage](https://jewellsean.github.io/fast-spike-deconvolution/index.html). "
   ]
  },
  {
   "cell_type": "code",
   "execution_count": null,
   "metadata": {},
   "outputs": [],
   "source": [
    "from FastLZeroSpikeInference import fast\n",
    "help(fast)"
   ]
  },
  {
   "cell_type": "code",
   "execution_count": null,
   "metadata": {},
   "outputs": [],
   "source": []
  }
 ],
 "metadata": {
  "kernelspec": {
   "display_name": "Python 3",
   "language": "python",
   "name": "python3"
  },
  "language_info": {
   "codemirror_mode": {
    "name": "ipython",
    "version": 3
   },
   "file_extension": ".py",
   "mimetype": "text/x-python",
   "name": "python",
   "nbconvert_exporter": "python",
   "pygments_lexer": "ipython3",
   "version": "3.7.6"
  }
 },
 "nbformat": 4,
 "nbformat_minor": 4
}
